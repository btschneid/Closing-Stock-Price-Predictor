{
 "cells": [
  {
   "cell_type": "markdown",
   "id": "52648a1a",
   "metadata": {},
   "source": [
    "# Classes"
   ]
  },
  {
   "cell_type": "code",
   "execution_count": 141,
   "id": "eecd74d9",
   "metadata": {},
   "outputs": [],
   "source": [
    "import numpy as np\n",
    "import pandas as pd\n",
    "import datetime as dt\n",
    "import pandas_datareader as pdr\n",
    "import matplotlib.pyplot as plt\n",
    "\n",
    "from sklearn.preprocessing import MinMaxScaler\n",
    "from tensorflow.keras.models import Sequential\n",
    "from tensorflow.keras.layers import Dense, Dropout, LSTM"
   ]
  },
  {
   "cell_type": "markdown",
   "id": "fea9dbdf",
   "metadata": {},
   "source": [
    "# Load Data"
   ]
  },
  {
   "cell_type": "code",
   "execution_count": 154,
   "id": "7375adf3",
   "metadata": {},
   "outputs": [
    {
     "data": {
      "text/html": [
       "<div>\n",
       "<style scoped>\n",
       "    .dataframe tbody tr th:only-of-type {\n",
       "        vertical-align: middle;\n",
       "    }\n",
       "\n",
       "    .dataframe tbody tr th {\n",
       "        vertical-align: top;\n",
       "    }\n",
       "\n",
       "    .dataframe thead th {\n",
       "        text-align: right;\n",
       "    }\n",
       "</style>\n",
       "<table border=\"1\" class=\"dataframe\">\n",
       "  <thead>\n",
       "    <tr style=\"text-align: right;\">\n",
       "      <th></th>\n",
       "      <th>High</th>\n",
       "      <th>Low</th>\n",
       "      <th>Open</th>\n",
       "      <th>Close</th>\n",
       "      <th>Volume</th>\n",
       "      <th>Adj Close</th>\n",
       "    </tr>\n",
       "    <tr>\n",
       "      <th>Date</th>\n",
       "      <th></th>\n",
       "      <th></th>\n",
       "      <th></th>\n",
       "      <th></th>\n",
       "      <th></th>\n",
       "      <th></th>\n",
       "    </tr>\n",
       "  </thead>\n",
       "  <tbody>\n",
       "    <tr>\n",
       "      <th>2012-01-03</th>\n",
       "      <td>12.490000</td>\n",
       "      <td>12.190000</td>\n",
       "      <td>12.460000</td>\n",
       "      <td>12.200000</td>\n",
       "      <td>10330200.0</td>\n",
       "      <td>11.129882</td>\n",
       "    </tr>\n",
       "    <tr>\n",
       "      <th>2012-01-04</th>\n",
       "      <td>12.270000</td>\n",
       "      <td>12.070000</td>\n",
       "      <td>12.210000</td>\n",
       "      <td>12.110000</td>\n",
       "      <td>8551600.0</td>\n",
       "      <td>11.047776</td>\n",
       "    </tr>\n",
       "    <tr>\n",
       "      <th>2012-01-05</th>\n",
       "      <td>12.210000</td>\n",
       "      <td>11.940000</td>\n",
       "      <td>12.120000</td>\n",
       "      <td>12.110000</td>\n",
       "      <td>8809800.0</td>\n",
       "      <td>11.047776</td>\n",
       "    </tr>\n",
       "    <tr>\n",
       "      <th>2012-01-06</th>\n",
       "      <td>12.310000</td>\n",
       "      <td>11.980000</td>\n",
       "      <td>12.090000</td>\n",
       "      <td>12.240000</td>\n",
       "      <td>9625000.0</td>\n",
       "      <td>11.166373</td>\n",
       "    </tr>\n",
       "    <tr>\n",
       "      <th>2012-01-09</th>\n",
       "      <td>12.240000</td>\n",
       "      <td>12.030000</td>\n",
       "      <td>12.230000</td>\n",
       "      <td>12.200000</td>\n",
       "      <td>5827500.0</td>\n",
       "      <td>11.129882</td>\n",
       "    </tr>\n",
       "    <tr>\n",
       "      <th>...</th>\n",
       "      <td>...</td>\n",
       "      <td>...</td>\n",
       "      <td>...</td>\n",
       "      <td>...</td>\n",
       "      <td>...</td>\n",
       "      <td>...</td>\n",
       "    </tr>\n",
       "    <tr>\n",
       "      <th>2021-12-16</th>\n",
       "      <td>61.630001</td>\n",
       "      <td>60.180000</td>\n",
       "      <td>60.549999</td>\n",
       "      <td>61.490002</td>\n",
       "      <td>10074500.0</td>\n",
       "      <td>61.126659</td>\n",
       "    </tr>\n",
       "    <tr>\n",
       "      <th>2021-12-17</th>\n",
       "      <td>62.070000</td>\n",
       "      <td>60.599998</td>\n",
       "      <td>61.099998</td>\n",
       "      <td>61.360001</td>\n",
       "      <td>16960300.0</td>\n",
       "      <td>60.997425</td>\n",
       "    </tr>\n",
       "    <tr>\n",
       "      <th>2021-12-20</th>\n",
       "      <td>62.230000</td>\n",
       "      <td>60.669998</td>\n",
       "      <td>61.009998</td>\n",
       "      <td>61.799999</td>\n",
       "      <td>8369400.0</td>\n",
       "      <td>61.434826</td>\n",
       "    </tr>\n",
       "    <tr>\n",
       "      <th>2021-12-21</th>\n",
       "      <td>63.639999</td>\n",
       "      <td>61.860001</td>\n",
       "      <td>62.250000</td>\n",
       "      <td>63.590000</td>\n",
       "      <td>11097700.0</td>\n",
       "      <td>63.214249</td>\n",
       "    </tr>\n",
       "    <tr>\n",
       "      <th>2021-12-22</th>\n",
       "      <td>64.120003</td>\n",
       "      <td>63.139999</td>\n",
       "      <td>63.259998</td>\n",
       "      <td>64.099998</td>\n",
       "      <td>15089700.0</td>\n",
       "      <td>63.721233</td>\n",
       "    </tr>\n",
       "  </tbody>\n",
       "</table>\n",
       "<p>2511 rows × 6 columns</p>\n",
       "</div>"
      ],
      "text/plain": [
       "                 High        Low       Open      Close      Volume  Adj Close\n",
       "Date                                                                         \n",
       "2012-01-03  12.490000  12.190000  12.460000  12.200000  10330200.0  11.129882\n",
       "2012-01-04  12.270000  12.070000  12.210000  12.110000   8551600.0  11.047776\n",
       "2012-01-05  12.210000  11.940000  12.120000  12.110000   8809800.0  11.047776\n",
       "2012-01-06  12.310000  11.980000  12.090000  12.240000   9625000.0  11.166373\n",
       "2012-01-09  12.240000  12.030000  12.230000  12.200000   5827500.0  11.129882\n",
       "...               ...        ...        ...        ...         ...        ...\n",
       "2021-12-16  61.630001  60.180000  60.549999  61.490002  10074500.0  61.126659\n",
       "2021-12-17  62.070000  60.599998  61.099998  61.360001  16960300.0  60.997425\n",
       "2021-12-20  62.230000  60.669998  61.009998  61.799999   8369400.0  61.434826\n",
       "2021-12-21  63.639999  61.860001  62.250000  63.590000  11097700.0  63.214249\n",
       "2021-12-22  64.120003  63.139999  63.259998  64.099998  15089700.0  63.721233\n",
       "\n",
       "[2511 rows x 6 columns]"
      ]
     },
     "execution_count": 154,
     "metadata": {},
     "output_type": "execute_result"
    }
   ],
   "source": [
    "# 3 Different sectors\n",
    "company1 = 'AAPL'\n",
    "company2 = 'KO'\n",
    "company = 'ATVI'\n",
    "\n",
    "# Start and end time\n",
    "start = dt.datetime(2012, 1, 1)\n",
    "end = dt.datetime(2021, 12, 22)\n",
    "\n",
    "# Collecting data from yahoo finance\n",
    "stockData = pdr.DataReader(company, 'yahoo', start, end)\n",
    "stockData"
   ]
  },
  {
   "cell_type": "markdown",
   "id": "b0061654",
   "metadata": {},
   "source": [
    "# Clean Data"
   ]
  },
  {
   "cell_type": "markdown",
   "id": "72c5e147",
   "metadata": {},
   "source": [
    "### Scale Data"
   ]
  },
  {
   "cell_type": "code",
   "execution_count": 155,
   "id": "7b00ffc8",
   "metadata": {},
   "outputs": [
    {
     "data": {
      "text/plain": [
       "array([[0.01758713],\n",
       "       [0.01662198],\n",
       "       [0.01662198],\n",
       "       ...,\n",
       "       [0.54949062],\n",
       "       [0.56868634],\n",
       "       [0.57415549]])"
      ]
     },
     "execution_count": 155,
     "metadata": {},
     "output_type": "execute_result"
    }
   ],
   "source": [
    "# Data will be between 0 and 1 to make it easier to work with\n",
    "scaler = MinMaxScaler(feature_range=(0, 1))\n",
    "\n",
    "# Scale those 0 - 1 values to only use the closed data\n",
    "scaledData = scaler.fit_transform(stockData['Close'].values.reshape(-1, 1))\n",
    "scaledData"
   ]
  },
  {
   "cell_type": "markdown",
   "id": "07e6a462",
   "metadata": {},
   "source": [
    "# Setup Training"
   ]
  },
  {
   "cell_type": "code",
   "execution_count": 156,
   "id": "049fb19b",
   "metadata": {},
   "outputs": [],
   "source": [
    "# How many days does it look into the past to make the prediction\n",
    "predictionDays = 60 \n",
    "#predictionDays = 180 \n",
    "#predictionDays = 365 "
   ]
  },
  {
   "cell_type": "code",
   "execution_count": 157,
   "id": "952d108c",
   "metadata": {},
   "outputs": [],
   "source": [
    "# Initalize and append datas to the x and y training data\n",
    "xTrain = []\n",
    "yTrain = []\n",
    "\n",
    "# Append last predictionDay # value to xTrain and then yTrain will hold the + 1 value to check if it is training correctly\n",
    "for day in range(predictionDays, len(scaledData)):\n",
    "    xTrain.append(scaledData[day - predictionDays : day, 0])\n",
    "    yTrain.append(scaledData[day, 0])"
   ]
  },
  {
   "cell_type": "markdown",
   "id": "240db5ee",
   "metadata": {},
   "source": [
    "### Convert Arrays"
   ]
  },
  {
   "cell_type": "code",
   "execution_count": 158,
   "id": "8acbbd99",
   "metadata": {},
   "outputs": [
    {
     "data": {
      "text/plain": [
       "(2451, 60)"
      ]
     },
     "execution_count": 158,
     "metadata": {},
     "output_type": "execute_result"
    }
   ],
   "source": [
    "# Converting x and y Train arrays into numpy arrays\n",
    "xTrain = np.array(xTrain)\n",
    "yTrain = np.array(yTrain)\n",
    "\n",
    "xTrain.shape"
   ]
  },
  {
   "cell_type": "markdown",
   "id": "d704bda8",
   "metadata": {},
   "source": [
    "### Reshape\n"
   ]
  },
  {
   "cell_type": "code",
   "execution_count": 159,
   "id": "913b8570",
   "metadata": {},
   "outputs": [],
   "source": [
    "# Reshape xTrain into a 3D usable value for neural network\n",
    "xTrain = np.reshape(xTrain, (xTrain.shape[0], xTrain.shape[1], 1))\n",
    "#xTrain"
   ]
  },
  {
   "cell_type": "markdown",
   "id": "272e125d",
   "metadata": {},
   "source": [
    "# Create Neural Network "
   ]
  },
  {
   "cell_type": "code",
   "execution_count": 160,
   "id": "bb1b56c9",
   "metadata": {},
   "outputs": [],
   "source": [
    "# Create Models\n",
    "model = Sequential()"
   ]
  },
  {
   "cell_type": "markdown",
   "id": "c7e1a82e",
   "metadata": {},
   "source": [
    "## Testing"
   ]
  },
  {
   "cell_type": "code",
   "execution_count": 161,
   "id": "83f24275",
   "metadata": {},
   "outputs": [
    {
     "name": "stdout",
     "output_type": "stream",
     "text": [
      "Epoch 1/30\n",
      "77/77 [==============================] - 6s 45ms/step - loss: 0.0113\n",
      "Epoch 2/30\n",
      "77/77 [==============================] - 9s 116ms/step - loss: 0.0032\n",
      "Epoch 3/30\n",
      "77/77 [==============================] - 13s 166ms/step - loss: 0.0027\n",
      "Epoch 4/30\n",
      "77/77 [==============================] - 12s 152ms/step - loss: 0.0024\n",
      "Epoch 5/30\n",
      "77/77 [==============================] - 11s 141ms/step - loss: 0.0022\n",
      "Epoch 6/30\n",
      "77/77 [==============================] - 12s 153ms/step - loss: 0.0027\n",
      "Epoch 7/30\n",
      "77/77 [==============================] - 12s 157ms/step - loss: 0.0023\n",
      "Epoch 8/30\n",
      "77/77 [==============================] - 11s 146ms/step - loss: 0.0020\n",
      "Epoch 9/30\n",
      "77/77 [==============================] - 11s 149ms/step - loss: 0.0021\n",
      "Epoch 10/30\n",
      "77/77 [==============================] - 12s 150ms/step - loss: 0.0019\n",
      "Epoch 11/30\n",
      "77/77 [==============================] - 12s 152ms/step - loss: 0.0018\n",
      "Epoch 12/30\n",
      "77/77 [==============================] - 11s 146ms/step - loss: 0.0017\n",
      "Epoch 13/30\n",
      "77/77 [==============================] - 15s 191ms/step - loss: 0.0017\n",
      "Epoch 14/30\n",
      "77/77 [==============================] - 15s 201ms/step - loss: 0.0019\n",
      "Epoch 15/30\n",
      "77/77 [==============================] - 12s 156ms/step - loss: 0.0017\n",
      "Epoch 16/30\n",
      "77/77 [==============================] - 11s 147ms/step - loss: 0.0016\n",
      "Epoch 17/30\n",
      "77/77 [==============================] - 11s 142ms/step - loss: 0.0015\n",
      "Epoch 18/30\n",
      "77/77 [==============================] - 12s 150ms/step - loss: 0.0017\n",
      "Epoch 19/30\n",
      "77/77 [==============================] - 15s 191ms/step - loss: 0.0015\n",
      "Epoch 20/30\n",
      "77/77 [==============================] - 15s 192ms/step - loss: 0.0015\n",
      "Epoch 21/30\n",
      "77/77 [==============================] - 13s 167ms/step - loss: 0.0015\n",
      "Epoch 22/30\n",
      "77/77 [==============================] - 11s 146ms/step - loss: 0.0014\n",
      "Epoch 23/30\n",
      "77/77 [==============================] - 11s 147ms/step - loss: 0.0016\n",
      "Epoch 24/30\n",
      "77/77 [==============================] - 14s 187ms/step - loss: 0.0014\n",
      "Epoch 25/30\n",
      "77/77 [==============================] - 17s 216ms/step - loss: 0.0015\n",
      "Epoch 26/30\n",
      "77/77 [==============================] - 16s 213ms/step - loss: 0.0014\n",
      "Epoch 27/30\n",
      "77/77 [==============================] - 16s 202ms/step - loss: 0.0012\n",
      "Epoch 28/30\n",
      "77/77 [==============================] - 13s 174ms/step - loss: 0.0012\n",
      "Epoch 29/30\n",
      "77/77 [==============================] - 15s 199ms/step - loss: 0.0011\n",
      "Epoch 30/30\n",
      "77/77 [==============================] - 14s 187ms/step - loss: 0.0012\n"
     ]
    },
    {
     "data": {
      "text/plain": [
       "<keras.callbacks.History at 0x2949a2ce1f0>"
      ]
     },
     "execution_count": 161,
     "metadata": {},
     "output_type": "execute_result"
    }
   ],
   "source": [
    "# Fill in models\n",
    "unitAmount = 50\n",
    "\n",
    "model.add(LSTM(units = unitAmount, return_sequences=True, input_shape = (xTrain.shape[1], 1)))\n",
    "model.add(Dropout(0.2))\n",
    "model.add(LSTM(units = unitAmount, return_sequences=True))\n",
    "model.add(Dropout(0.2))\n",
    "model.add(LSTM(units = unitAmount))\n",
    "model.add(Dropout(0.2))\n",
    "\n",
    "# Model to add prediction of future\n",
    "model.add(Dense(units = 1))\n",
    "\n",
    "# Optimize the model\n",
    "model.compile(optimizer = 'adam', loss='mean_squared_error')\n",
    "\n",
    "# Adding the training data to the model\n",
    "model.fit(xTrain, yTrain, epochs = 30, batch_size = 32)"
   ]
  },
  {
   "cell_type": "markdown",
   "id": "1f4597ee",
   "metadata": {},
   "source": [
    "# Test Data"
   ]
  },
  {
   "cell_type": "code",
   "execution_count": 166,
   "id": "454c12dc",
   "metadata": {},
   "outputs": [],
   "source": [
    "# Test times to check prediction accuracy\n",
    "testStart = dt.datetime(2021, 12, 22)\n",
    "testEnd = dt.datetime.now()\n",
    "testData = pdr.DataReader(company, 'yahoo' , testStart, testEnd)\n",
    "\n",
    "# Get the actual prices of the closed values\n",
    "truePrice = testData['Close'].values\n",
    "\n",
    "# Concatenate the predcited data and test data models\n",
    "totalDataset = pd.concat((stockData['Close'], testData['Close']), axis = 0)\n",
    "\n",
    "# Model will use these inputs to predict next closing price\n",
    "modelInputs = totalDataset[len(totalDataset) - len(testData) - predictionDays:].values\n",
    "\n",
    "# Reshape the model\n",
    "modelInputs = modelInputs.reshape(-1, 1)\n",
    "modelInputs = scaler.transform(modelInputs)"
   ]
  },
  {
   "cell_type": "markdown",
   "id": "c1137388",
   "metadata": {},
   "source": [
    "# Predict"
   ]
  },
  {
   "cell_type": "code",
   "execution_count": 170,
   "id": "ff6bea7d",
   "metadata": {},
   "outputs": [
    {
     "name": "stdout",
     "output_type": "stream",
     "text": [
      "6/6 [==============================] - 0s 35ms/step\n"
     ]
    },
    {
     "data": {
      "text/plain": [
       "0.6365758577982584"
      ]
     },
     "execution_count": 170,
     "metadata": {},
     "output_type": "execute_result"
    }
   ],
   "source": [
    "# Repeat method done above but with test array\n",
    "xTest = []\n",
    "\n",
    "for x in range(predictionDays, len(modelInputs)):\n",
    "    xTest.append(modelInputs[x-predictionDays:x, 0])\n",
    "\n",
    "# Creat numpy array\n",
    "xTest = np.array(xTest)\n",
    "\n",
    "# Reshape into 3D array\n",
    "xTest = np.reshape(xTest, (xTest.shape[0], xTest.shape[1], 1))\n",
    "\n",
    "# Add predicted closing prices to model\n",
    "predictedPrices = model.predict(xTest)\n",
    "\n",
    "# Backwards of last scaler operation and bring it back to 2D method\n",
    "predictedPrices = scaler.inverse_transform(predictedPrices)\n",
    "\n",
    "# Error\n",
    "rmse = np.sqrt(np.mean(predictedPrices - truePrice)**2)\n",
    "rmse"
   ]
  },
  {
   "cell_type": "markdown",
   "id": "e960ad7a",
   "metadata": {},
   "source": [
    "### Plot "
   ]
  },
  {
   "cell_type": "code",
   "execution_count": 171,
   "id": "f87f91fd",
   "metadata": {},
   "outputs": [
    {
     "data": {
      "image/png": "[encoded data removed]",
      "text/plain": [
       "<Figure size 640x480 with 1 Axes>"
      ]
     },
     "metadata": {},
     "output_type": "display_data"
    }
   ],
   "source": [
    "# Create Plot\n",
    "plt.plot(truePrice, color = 'green', label = f\"Actual {company} Price\")\n",
    "plt.plot(predictedPrices, color = 'blue', label = f\"Predicted {company} Price\")\n",
    "plt.title(f\"{company} Closing Price Graph\")\n",
    "plt.xlabel('Time')\n",
    "plt.ylabel(f\"{company} Closing Price\")\n",
    "plt.legend()\n",
    "plt.show()"
   ]
  },
  {
   "cell_type": "markdown",
   "id": "627bdcc7",
   "metadata": {},
   "source": [
    "# Predicting Future\n"
   ]
  },
  {
   "cell_type": "code",
   "execution_count": 169,
   "id": "dcdc9680",
   "metadata": {},
   "outputs": [
    {
     "name": "stdout",
     "output_type": "stream",
     "text": [
      "1/1 [==============================] - 0s 33ms/step\n",
      "Prediction: [[81.350044]]\n"
     ]
    }
   ],
   "source": [
    "# Repeat again making the certain arrays\n",
    "# Take all data from prediction days before and make array\n",
    "futureData = [modelInputs[len(modelInputs) + 1 - predictionDays:len(modelInputs + 1), 0]]\n",
    "futureData = np.array(futureData)\n",
    "futureData = np.reshape(futureData, (futureData.shape[0], futureData.shape[1], 1))\n",
    "\n",
    "# Make prediction\n",
    "prediction = model.predict(futureData)\n",
    "prediction = scaler.inverse_transform(prediction)\n",
    "\n",
    "# Ouput prediction\n",
    "print(f\"Prediction: {prediction}\")"
   ]
  }
 ],
 "metadata": {
  "kernelspec": {
   "display_name": "Python 3 (ipykernel)",
   "language": "python",
   "name": "python3"
  },
  "language_info": {
   "codemirror_mode": {
    "name": "ipython",
    "version": 3
   },
   "file_extension": ".py",
   "mimetype": "text/x-python",
   "name": "python",
   "nbconvert_exporter": "python",
   "pygments_lexer": "ipython3",
   "version": "3.9.13"
  }
 },
 "nbformat": 4,
 "nbformat_minor": 5
}
